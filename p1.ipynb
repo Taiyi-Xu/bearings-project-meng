{
 "cells": [
  {
   "cell_type": "code",
   "execution_count": 2,
   "metadata": {},
   "outputs": [],
   "source": [
    "import wandb\n",
    "import pandas as pd\n"
   ]
  },
  {
   "cell_type": "code",
   "execution_count": 6,
   "metadata": {},
   "outputs": [
    {
     "data": {
      "text/html": [
       "Finishing last run (ID:0zfxh0sb) before initializing another..."
      ],
      "text/plain": [
       "<IPython.core.display.HTML object>"
      ]
     },
     "metadata": {},
     "output_type": "display_data"
    },
    {
     "data": {
      "text/html": [
       " View run <strong style=\"color:#cdcd00\">different-leaf-3</strong> at: <a href='https://wandb.ai/taiyi-xu-university-of-toronto/test/runs/0zfxh0sb' target=\"_blank\">https://wandb.ai/taiyi-xu-university-of-toronto/test/runs/0zfxh0sb</a><br/> View project at: <a href='https://wandb.ai/taiyi-xu-university-of-toronto/test' target=\"_blank\">https://wandb.ai/taiyi-xu-university-of-toronto/test</a><br/>Synced 5 W&B file(s), 0 media file(s), 0 artifact file(s) and 0 other file(s)"
      ],
      "text/plain": [
       "<IPython.core.display.HTML object>"
      ]
     },
     "metadata": {},
     "output_type": "display_data"
    },
    {
     "data": {
      "text/html": [
       "Find logs at: <code>.\\wandb\\run-20241126_124648-0zfxh0sb\\logs</code>"
      ],
      "text/plain": [
       "<IPython.core.display.HTML object>"
      ]
     },
     "metadata": {},
     "output_type": "display_data"
    },
    {
     "data": {
      "text/html": [
       "Successfully finished last run (ID:0zfxh0sb). Initializing new run:<br/>"
      ],
      "text/plain": [
       "<IPython.core.display.HTML object>"
      ]
     },
     "metadata": {},
     "output_type": "display_data"
    },
    {
     "data": {
      "text/html": [
       "Tracking run with wandb version 0.18.7"
      ],
      "text/plain": [
       "<IPython.core.display.HTML object>"
      ]
     },
     "metadata": {},
     "output_type": "display_data"
    },
    {
     "data": {
      "text/html": [
       "Run data is saved locally in <code>c:\\uoft\\Meng_project\\bearings-project-meng\\wandb\\run-20241126_124833-rjjo8yjg</code>"
      ],
      "text/plain": [
       "<IPython.core.display.HTML object>"
      ]
     },
     "metadata": {},
     "output_type": "display_data"
    },
    {
     "data": {
      "text/html": [
       "Syncing run <strong><a href='https://wandb.ai/taiyi-xu-university-of-toronto/test/runs/rjjo8yjg' target=\"_blank\">peachy-firefly-4</a></strong> to <a href='https://wandb.ai/taiyi-xu-university-of-toronto/test' target=\"_blank\">Weights & Biases</a> (<a href='https://wandb.me/developer-guide' target=\"_blank\">docs</a>)<br/>"
      ],
      "text/plain": [
       "<IPython.core.display.HTML object>"
      ]
     },
     "metadata": {},
     "output_type": "display_data"
    },
    {
     "data": {
      "text/html": [
       " View project at <a href='https://wandb.ai/taiyi-xu-university-of-toronto/test' target=\"_blank\">https://wandb.ai/taiyi-xu-university-of-toronto/test</a>"
      ],
      "text/plain": [
       "<IPython.core.display.HTML object>"
      ]
     },
     "metadata": {},
     "output_type": "display_data"
    },
    {
     "data": {
      "text/html": [
       " View run at <a href='https://wandb.ai/taiyi-xu-university-of-toronto/test/runs/rjjo8yjg' target=\"_blank\">https://wandb.ai/taiyi-xu-university-of-toronto/test/runs/rjjo8yjg</a>"
      ],
      "text/plain": [
       "<IPython.core.display.HTML object>"
      ]
     },
     "metadata": {},
     "output_type": "display_data"
    },
    {
     "name": "stderr",
     "output_type": "stream",
     "text": [
      "wandb: WARNING Serializing object of type str that is 455867 bytes\n",
      "wandb: WARNING Serializing object of type str that is 401203 bytes\n",
      "wandb: WARNING Serializing object of type str that is 153375 bytes\n",
      "wandb: WARNING Serializing object of type str that is 285351 bytes\n",
      "wandb: WARNING Serializing object of type str that is 402379 bytes\n",
      "wandb: WARNING Serializing object of type str that is 398735 bytes\n",
      "wandb: WARNING Serializing object of type str that is 530307 bytes\n",
      "wandb: WARNING Serializing object of type str that is 430875 bytes\n",
      "wandb: WARNING Serializing object of type str that is 530307 bytes\n"
     ]
    },
    {
     "data": {
      "application/vnd.jupyter.widget-view+json": {
       "model_id": "580d6d2a20bb45e997cc5c374a8f0e46",
       "version_major": 2,
       "version_minor": 0
      },
      "text/plain": [
       "VBox(children=(Label(value='6.855 MB of 6.855 MB uploaded\\r'), FloatProgress(value=1.0, max=1.0)))"
      ]
     },
     "metadata": {},
     "output_type": "display_data"
    },
    {
     "data": {
      "text/html": [
       " View run <strong style=\"color:#cdcd00\">peachy-firefly-4</strong> at: <a href='https://wandb.ai/taiyi-xu-university-of-toronto/test/runs/rjjo8yjg' target=\"_blank\">https://wandb.ai/taiyi-xu-university-of-toronto/test/runs/rjjo8yjg</a><br/> View project at: <a href='https://wandb.ai/taiyi-xu-university-of-toronto/test' target=\"_blank\">https://wandb.ai/taiyi-xu-university-of-toronto/test</a><br/>Synced 5 W&B file(s), 0 media file(s), 4 artifact file(s) and 1 other file(s)"
      ],
      "text/plain": [
       "<IPython.core.display.HTML object>"
      ]
     },
     "metadata": {},
     "output_type": "display_data"
    },
    {
     "data": {
      "text/html": [
       "Find logs at: <code>.\\wandb\\run-20241126_124833-rjjo8yjg\\logs</code>"
      ],
      "text/plain": [
       "<IPython.core.display.HTML object>"
      ]
     },
     "metadata": {},
     "output_type": "display_data"
    }
   ],
   "source": [
    "wandb_run=wandb.init(project=\"test\")\n",
    "\n",
    "wandb.run.name=\"first_run\"\n",
    "\n",
    "model_zoo_df= pd.read_json(f'C:/uoft/Meng_project/bearings-project-meng/Streamlit/outputs/Model_Zoo/user_id_Plots.jsonl', lines=True)\n",
    "\n",
    "table= wandb.Table(dataframe=model_zoo_df)\n",
    "wandb.log({\"model_zoo\": table})\n",
    "wandb_run.finish()"
   ]
  },
  {
   "cell_type": "code",
   "execution_count": null,
   "metadata": {},
   "outputs": [],
   "source": []
  }
 ],
 "metadata": {
  "kernelspec": {
   "display_name": "base",
   "language": "python",
   "name": "python3"
  },
  "language_info": {
   "codemirror_mode": {
    "name": "ipython",
    "version": 3
   },
   "file_extension": ".py",
   "mimetype": "text/x-python",
   "name": "python",
   "nbconvert_exporter": "python",
   "pygments_lexer": "ipython3",
   "version": "3.12.4"
  }
 },
 "nbformat": 4,
 "nbformat_minor": 2
}
