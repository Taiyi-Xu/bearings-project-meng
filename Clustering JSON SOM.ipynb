{
 "cells": [
  {
   "cell_type": "code",
   "execution_count": 1,
   "id": "255e2949-dff0-4c0d-8001-af0f3e2cc2f0",
   "metadata": {},
   "outputs": [
    {
     "name": "stdout",
     "output_type": "stream",
     "text": [
      "Requirement already satisfied: minisom in c:\\users\\tigra\\anaconda3\\lib\\site-packages (2.3.3)Note: you may need to restart the kernel to use updated packages.\n",
      "\n"
     ]
    }
   ],
   "source": [
    "pip install minisom"
   ]
  },
  {
   "cell_type": "code",
   "execution_count": 2,
   "id": "4ebeeffd-81d8-4511-af5a-4f184d2ca670",
   "metadata": {},
   "outputs": [
    {
     "name": "stdout",
     "output_type": "stream",
     "text": [
      "Requirement already satisfied: chardet in c:\\users\\tigra\\anaconda3\\lib\\site-packages (4.0.0)\n",
      "Note: you may need to restart the kernel to use updated packages.\n"
     ]
    }
   ],
   "source": [
    "pip install chardet"
   ]
  },
  {
   "cell_type": "code",
   "execution_count": 3,
   "id": "29ced0ce-2a6e-4027-a852-a45bdc7c75b3",
   "metadata": {},
   "outputs": [
    {
     "name": "stdout",
     "output_type": "stream",
     "text": [
      "Requirement already satisfied: tslearn in c:\\users\\tigra\\anaconda3\\lib\\site-packages (0.6.3)\n",
      "Requirement already satisfied: scikit-learn in c:\\users\\tigra\\anaconda3\\lib\\site-packages (1.4.2)\n",
      "Requirement already satisfied: numpy in c:\\users\\tigra\\anaconda3\\lib\\site-packages (from tslearn) (1.26.4)\n",
      "Requirement already satisfied: scipy in c:\\users\\tigra\\anaconda3\\lib\\site-packages (from tslearn) (1.13.1)\n",
      "Requirement already satisfied: numba in c:\\users\\tigra\\anaconda3\\lib\\site-packages (from tslearn) (0.59.1)\n",
      "Requirement already satisfied: joblib in c:\\users\\tigra\\anaconda3\\lib\\site-packages (from tslearn) (1.4.2)\n",
      "Requirement already satisfied: threadpoolctl>=2.0.0 in c:\\users\\tigra\\anaconda3\\lib\\site-packages (from scikit-learn) (2.2.0)\n",
      "Requirement already satisfied: llvmlite<0.43,>=0.42.0dev0 in c:\\users\\tigra\\anaconda3\\lib\\site-packages (from numba->tslearn) (0.42.0)\n",
      "Note: you may need to restart the kernel to use updated packages.\n"
     ]
    }
   ],
   "source": [
    "pip install tslearn scikit-learn"
   ]
  },
  {
   "cell_type": "code",
   "execution_count": 4,
   "id": "d88a6924-345b-442b-80c7-ad528e12188d",
   "metadata": {},
   "outputs": [],
   "source": [
    "import json\n",
    "import matplotlib.pyplot as plt\n",
    "import pandas as pd\n",
    "import scipy.stats as st\n",
    "import numpy as np\n",
    "import ast\n",
    "from sklearn.decomposition import PCA\n",
    "from tslearn.preprocessing import TimeSeriesScalerMeanVariance\n",
    "from tslearn.clustering import TimeSeriesKMeans\n",
    "from minisom import MiniSom\n",
    "from sklearn.cluster import KMeans"
   ]
  },
  {
   "cell_type": "code",
   "execution_count": 5,
   "id": "b59f573c-4c9d-470b-b447-d2b0541dcd45",
   "metadata": {},
   "outputs": [],
   "source": [
    "json_file = \"C:\\\\Users\\\\tigra\\\\OneDrive\\\\Documents\\\\cleaned_df.jsonl\""
   ]
  },
  {
   "cell_type": "code",
   "execution_count": 6,
   "id": "7de01f80-0b68-4de2-ba6f-804695c38a52",
   "metadata": {},
   "outputs": [],
   "source": [
    "timestamps = []\n",
    "channel_x = []\n",
    "channel_y = []\n",
    "\n",
    "with open(json_file, 'r') as file:\n",
    "    for line in file:\n",
    "        try:\n",
    "            data = json.loads(line)\n",
    "            timestamps.append(data['timestamp'])\n",
    "            channel_x.append(data['channel_x'])\n",
    "            channel_y.append(data['channel_y'])\n",
    "            #print(data)\n",
    "        except json.JSONDecodeError as e:\n",
    "            print(f\"Error decoding JSON: {e}\")\n",
    "\n",
    "\n",
    "time_series_data = pd.DataFrame({\n",
    "    'timestamp': timestamps,\n",
    "    'channel_x': channel_x,\n",
    "    'channel_y': channel_y\n",
    "})"
   ]
  },
  {
   "cell_type": "code",
   "execution_count": 7,
   "id": "54b054a7-744d-4411-9e2c-eac2ac410e8a",
   "metadata": {},
   "outputs": [
    {
     "data": {
      "text/html": [
       "<div>\n",
       "<style scoped>\n",
       "    .dataframe tbody tr th:only-of-type {\n",
       "        vertical-align: middle;\n",
       "    }\n",
       "\n",
       "    .dataframe tbody tr th {\n",
       "        vertical-align: top;\n",
       "    }\n",
       "\n",
       "    .dataframe thead th {\n",
       "        text-align: right;\n",
       "    }\n",
       "</style>\n",
       "<table border=\"1\" class=\"dataframe\">\n",
       "  <thead>\n",
       "    <tr style=\"text-align: right;\">\n",
       "      <th></th>\n",
       "      <th>timestamp</th>\n",
       "      <th>channel_x</th>\n",
       "      <th>channel_y</th>\n",
       "    </tr>\n",
       "  </thead>\n",
       "  <tbody>\n",
       "    <tr>\n",
       "      <th>0</th>\n",
       "      <td>9:39:39</td>\n",
       "      <td>[0.8860844827, 0.2398780831, -0.7588045344, -1...</td>\n",
       "      <td>[-1.0970508836, 1.0021835283, 0.5548057028, 0....</td>\n",
       "    </tr>\n",
       "    <tr>\n",
       "      <th>1</th>\n",
       "      <td>9:39:49</td>\n",
       "      <td>[-0.3132895666, -0.0143246711, 0.0585480222, -...</td>\n",
       "      <td>[0.7455526429, -0.9193375962, 0.9783047733, -0...</td>\n",
       "    </tr>\n",
       "    <tr>\n",
       "      <th>2</th>\n",
       "      <td>9:39:59</td>\n",
       "      <td>[-0.1941087483, -0.2919947281, -0.6816562247, ...</td>\n",
       "      <td>[0.3501117451, -0.4537091558, -1.3679966717, -...</td>\n",
       "    </tr>\n",
       "    <tr>\n",
       "      <th>3</th>\n",
       "      <td>9:40:9</td>\n",
       "      <td>[0.0933388765, -0.0111775116, 0.0284666356, -0...</td>\n",
       "      <td>[-2.1192795178, 0.4437364412, -0.4180832858, 0...</td>\n",
       "    </tr>\n",
       "    <tr>\n",
       "      <th>4</th>\n",
       "      <td>9:40:19</td>\n",
       "      <td>[-0.3346322388, 0.2124313304, 0.568905011, 0.8...</td>\n",
       "      <td>[2.0316917182, 0.3680117201, -0.7623467467, -0...</td>\n",
       "    </tr>\n",
       "    <tr>\n",
       "      <th>...</th>\n",
       "      <td>...</td>\n",
       "      <td>...</td>\n",
       "      <td>...</td>\n",
       "    </tr>\n",
       "    <tr>\n",
       "      <th>2798</th>\n",
       "      <td>17:25:59</td>\n",
       "      <td>[0.0571303255, 0.0167320325, -0.1312956609, -0...</td>\n",
       "      <td>[-0.2585808797, 0.4511690181, 1.3718370909, -0...</td>\n",
       "    </tr>\n",
       "    <tr>\n",
       "      <th>2799</th>\n",
       "      <td>17:26:9</td>\n",
       "      <td>[0.7842501127, 0.6485894692, 0.884297264, 0.24...</td>\n",
       "      <td>[-0.8001867618, -0.6901360987, 0.2612386972, 1...</td>\n",
       "    </tr>\n",
       "    <tr>\n",
       "      <th>2800</th>\n",
       "      <td>17:26:19</td>\n",
       "      <td>[0.542245385, 0.9750843589, 0.6135731943, 0.73...</td>\n",
       "      <td>[0.0708408103, -0.585789414, -0.2912445529, 0....</td>\n",
       "    </tr>\n",
       "    <tr>\n",
       "      <th>2801</th>\n",
       "      <td>17:26:29</td>\n",
       "      <td>[-0.1005815044, 0.1743217626, 0.6969714747, 0....</td>\n",
       "      <td>[-1.461029906, 0.1401113917, 2.7590324291, 0.3...</td>\n",
       "    </tr>\n",
       "    <tr>\n",
       "      <th>2802</th>\n",
       "      <td>17:26:39</td>\n",
       "      <td>[-0.1888621407, -0.3627701543, -0.3137191761, ...</td>\n",
       "      <td>[0.3425732817, -2.7124917042, -0.2995753861, 2...</td>\n",
       "    </tr>\n",
       "  </tbody>\n",
       "</table>\n",
       "<p>2803 rows × 3 columns</p>\n",
       "</div>"
      ],
      "text/plain": [
       "     timestamp                                          channel_x  \\\n",
       "0      9:39:39  [0.8860844827, 0.2398780831, -0.7588045344, -1...   \n",
       "1      9:39:49  [-0.3132895666, -0.0143246711, 0.0585480222, -...   \n",
       "2      9:39:59  [-0.1941087483, -0.2919947281, -0.6816562247, ...   \n",
       "3       9:40:9  [0.0933388765, -0.0111775116, 0.0284666356, -0...   \n",
       "4      9:40:19  [-0.3346322388, 0.2124313304, 0.568905011, 0.8...   \n",
       "...        ...                                                ...   \n",
       "2798  17:25:59  [0.0571303255, 0.0167320325, -0.1312956609, -0...   \n",
       "2799   17:26:9  [0.7842501127, 0.6485894692, 0.884297264, 0.24...   \n",
       "2800  17:26:19  [0.542245385, 0.9750843589, 0.6135731943, 0.73...   \n",
       "2801  17:26:29  [-0.1005815044, 0.1743217626, 0.6969714747, 0....   \n",
       "2802  17:26:39  [-0.1888621407, -0.3627701543, -0.3137191761, ...   \n",
       "\n",
       "                                              channel_y  \n",
       "0     [-1.0970508836, 1.0021835283, 0.5548057028, 0....  \n",
       "1     [0.7455526429, -0.9193375962, 0.9783047733, -0...  \n",
       "2     [0.3501117451, -0.4537091558, -1.3679966717, -...  \n",
       "3     [-2.1192795178, 0.4437364412, -0.4180832858, 0...  \n",
       "4     [2.0316917182, 0.3680117201, -0.7623467467, -0...  \n",
       "...                                                 ...  \n",
       "2798  [-0.2585808797, 0.4511690181, 1.3718370909, -0...  \n",
       "2799  [-0.8001867618, -0.6901360987, 0.2612386972, 1...  \n",
       "2800  [0.0708408103, -0.585789414, -0.2912445529, 0....  \n",
       "2801  [-1.461029906, 0.1401113917, 2.7590324291, 0.3...  \n",
       "2802  [0.3425732817, -2.7124917042, -0.2995753861, 2...  \n",
       "\n",
       "[2803 rows x 3 columns]"
      ]
     },
     "execution_count": 7,
     "metadata": {},
     "output_type": "execute_result"
    }
   ],
   "source": [
    "time_series_data"
   ]
  },
  {
   "cell_type": "code",
   "execution_count": 8,
   "id": "53f47b41-2078-4ee9-a605-145666ca74dc",
   "metadata": {},
   "outputs": [],
   "source": [
    "#x_values = np.arange(1, len(time_series_data['channel_x'].iloc[0]) + 1)\n",
    "#y_values = np.array(time_series_data['channel_x'].iloc[0])"
   ]
  },
  {
   "cell_type": "code",
   "execution_count": 9,
   "id": "f2dd1342-ff95-41cf-a32c-36db301c4b22",
   "metadata": {},
   "outputs": [],
   "source": [
    "def som_kmeans_clustering(data, som_dim, num_clusters, sigma, num_iteration):\n",
    "\n",
    "    reshaped_data = np.array([np.array(time_series) for time_series in data])\n",
    "\n",
    "    # Train SOM\n",
    "    som = MiniSom(x=som_dim, y=som_dim, input_len=reshaped_data.shape[1], sigma=sigma, learning_rate=0.5)\n",
    "    som.random_weights_init(reshaped_data)\n",
    "    som.train_random(reshaped_data, num_iteration=num_iteration)\n",
    "\n",
    "    weights = som.get_weights()\n",
    "    flattened_weights = weights.reshape(-1, weights.shape[-1])\n",
    "\n",
    "    # Perform k-means clustering\n",
    "    kmeans = KMeans(n_clusters=num_clusters, random_state=0)\n",
    "    kmeans.fit(flattened_weights)\n",
    "\n",
    "    # Assign clusters\n",
    "    clusters = kmeans.predict(reshaped_data)\n",
    "    \n",
    "    return clusters"
   ]
  },
  {
   "cell_type": "code",
   "execution_count": 10,
   "id": "40538320-fb8d-49e9-8f36-04d094935a76",
   "metadata": {},
   "outputs": [],
   "source": [
    "som_dim = 10  # SOM grid size (this can be adjusted)\n",
    "num_clusters = 4\n",
    "sigma = 0.5 \n",
    "num_iteration = 10000"
   ]
  },
  {
   "cell_type": "code",
   "execution_count": 11,
   "id": "c55b6f95-9f1c-4998-9c84-d74ca70b5152",
   "metadata": {},
   "outputs": [],
   "source": [
    "channel_x = time_series_data['channel_x'].values"
   ]
  },
  {
   "cell_type": "code",
   "execution_count": 13,
   "id": "bafa183d-e816-415f-a7aa-bf89e79f68d4",
   "metadata": {},
   "outputs": [
    {
     "name": "stderr",
     "output_type": "stream",
     "text": [
      "C:\\Users\\tigra\\anaconda3\\Lib\\site-packages\\sklearn\\cluster\\_kmeans.py:1446: UserWarning: KMeans is known to have a memory leak on Windows with MKL, when there are less chunks than available threads. You can avoid it by setting the environment variable OMP_NUM_THREADS=1.\n",
      "  warnings.warn(\n"
     ]
    }
   ],
   "source": [
    "channel_x_clusters = som_kmeans_clustering(channel_x, som_dim, num_clusters, sigma, num_iteration)"
   ]
  },
  {
   "cell_type": "code",
   "execution_count": 40,
   "id": "4432b1e4-596b-4b22-aff9-95c33f42fcbf",
   "metadata": {},
   "outputs": [
    {
     "data": {
      "text/html": [
       "<div>\n",
       "<style scoped>\n",
       "    .dataframe tbody tr th:only-of-type {\n",
       "        vertical-align: middle;\n",
       "    }\n",
       "\n",
       "    .dataframe tbody tr th {\n",
       "        vertical-align: top;\n",
       "    }\n",
       "\n",
       "    .dataframe thead th {\n",
       "        text-align: right;\n",
       "    }\n",
       "</style>\n",
       "<table border=\"1\" class=\"dataframe\">\n",
       "  <thead>\n",
       "    <tr style=\"text-align: right;\">\n",
       "      <th></th>\n",
       "      <th>timestamp</th>\n",
       "      <th>channel_x</th>\n",
       "      <th>channel_y</th>\n",
       "      <th>channel_x_cluster</th>\n",
       "    </tr>\n",
       "  </thead>\n",
       "  <tbody>\n",
       "    <tr>\n",
       "      <th>0</th>\n",
       "      <td>9:39:39</td>\n",
       "      <td>[0.8860844827, 0.2398780831, -0.7588045344, -1...</td>\n",
       "      <td>[-1.0970508836, 1.0021835283, 0.5548057028, 0....</td>\n",
       "      <td>3</td>\n",
       "    </tr>\n",
       "    <tr>\n",
       "      <th>1</th>\n",
       "      <td>9:39:49</td>\n",
       "      <td>[-0.3132895666, -0.0143246711, 0.0585480222, -...</td>\n",
       "      <td>[0.7455526429, -0.9193375962, 0.9783047733, -0...</td>\n",
       "      <td>3</td>\n",
       "    </tr>\n",
       "    <tr>\n",
       "      <th>2</th>\n",
       "      <td>9:39:59</td>\n",
       "      <td>[-0.1941087483, -0.2919947281, -0.6816562247, ...</td>\n",
       "      <td>[0.3501117451, -0.4537091558, -1.3679966717, -...</td>\n",
       "      <td>3</td>\n",
       "    </tr>\n",
       "    <tr>\n",
       "      <th>3</th>\n",
       "      <td>9:40:9</td>\n",
       "      <td>[0.0933388765, -0.0111775116, 0.0284666356, -0...</td>\n",
       "      <td>[-2.1192795178, 0.4437364412, -0.4180832858, 0...</td>\n",
       "      <td>3</td>\n",
       "    </tr>\n",
       "    <tr>\n",
       "      <th>4</th>\n",
       "      <td>9:40:19</td>\n",
       "      <td>[-0.3346322388, 0.2124313304, 0.568905011, 0.8...</td>\n",
       "      <td>[2.0316917182, 0.3680117201, -0.7623467467, -0...</td>\n",
       "      <td>3</td>\n",
       "    </tr>\n",
       "    <tr>\n",
       "      <th>...</th>\n",
       "      <td>...</td>\n",
       "      <td>...</td>\n",
       "      <td>...</td>\n",
       "      <td>...</td>\n",
       "    </tr>\n",
       "    <tr>\n",
       "      <th>2798</th>\n",
       "      <td>17:25:59</td>\n",
       "      <td>[0.0571303255, 0.0167320325, -0.1312956609, -0...</td>\n",
       "      <td>[-0.2585808797, 0.4511690181, 1.3718370909, -0...</td>\n",
       "      <td>3</td>\n",
       "    </tr>\n",
       "    <tr>\n",
       "      <th>2799</th>\n",
       "      <td>17:26:9</td>\n",
       "      <td>[0.7842501127, 0.6485894692, 0.884297264, 0.24...</td>\n",
       "      <td>[-0.8001867618, -0.6901360987, 0.2612386972, 1...</td>\n",
       "      <td>3</td>\n",
       "    </tr>\n",
       "    <tr>\n",
       "      <th>2800</th>\n",
       "      <td>17:26:19</td>\n",
       "      <td>[0.542245385, 0.9750843589, 0.6135731943, 0.73...</td>\n",
       "      <td>[0.0708408103, -0.585789414, -0.2912445529, 0....</td>\n",
       "      <td>3</td>\n",
       "    </tr>\n",
       "    <tr>\n",
       "      <th>2801</th>\n",
       "      <td>17:26:29</td>\n",
       "      <td>[-0.1005815044, 0.1743217626, 0.6969714747, 0....</td>\n",
       "      <td>[-1.461029906, 0.1401113917, 2.7590324291, 0.3...</td>\n",
       "      <td>3</td>\n",
       "    </tr>\n",
       "    <tr>\n",
       "      <th>2802</th>\n",
       "      <td>17:26:39</td>\n",
       "      <td>[-0.1888621407, -0.3627701543, -0.3137191761, ...</td>\n",
       "      <td>[0.3425732817, -2.7124917042, -0.2995753861, 2...</td>\n",
       "      <td>3</td>\n",
       "    </tr>\n",
       "  </tbody>\n",
       "</table>\n",
       "<p>2803 rows × 4 columns</p>\n",
       "</div>"
      ],
      "text/plain": [
       "     timestamp                                          channel_x  \\\n",
       "0      9:39:39  [0.8860844827, 0.2398780831, -0.7588045344, -1...   \n",
       "1      9:39:49  [-0.3132895666, -0.0143246711, 0.0585480222, -...   \n",
       "2      9:39:59  [-0.1941087483, -0.2919947281, -0.6816562247, ...   \n",
       "3       9:40:9  [0.0933388765, -0.0111775116, 0.0284666356, -0...   \n",
       "4      9:40:19  [-0.3346322388, 0.2124313304, 0.568905011, 0.8...   \n",
       "...        ...                                                ...   \n",
       "2798  17:25:59  [0.0571303255, 0.0167320325, -0.1312956609, -0...   \n",
       "2799   17:26:9  [0.7842501127, 0.6485894692, 0.884297264, 0.24...   \n",
       "2800  17:26:19  [0.542245385, 0.9750843589, 0.6135731943, 0.73...   \n",
       "2801  17:26:29  [-0.1005815044, 0.1743217626, 0.6969714747, 0....   \n",
       "2802  17:26:39  [-0.1888621407, -0.3627701543, -0.3137191761, ...   \n",
       "\n",
       "                                              channel_y  channel_x_cluster  \n",
       "0     [-1.0970508836, 1.0021835283, 0.5548057028, 0....                  3  \n",
       "1     [0.7455526429, -0.9193375962, 0.9783047733, -0...                  3  \n",
       "2     [0.3501117451, -0.4537091558, -1.3679966717, -...                  3  \n",
       "3     [-2.1192795178, 0.4437364412, -0.4180832858, 0...                  3  \n",
       "4     [2.0316917182, 0.3680117201, -0.7623467467, -0...                  3  \n",
       "...                                                 ...                ...  \n",
       "2798  [-0.2585808797, 0.4511690181, 1.3718370909, -0...                  3  \n",
       "2799  [-0.8001867618, -0.6901360987, 0.2612386972, 1...                  3  \n",
       "2800  [0.0708408103, -0.585789414, -0.2912445529, 0....                  3  \n",
       "2801  [-1.461029906, 0.1401113917, 2.7590324291, 0.3...                  3  \n",
       "2802  [0.3425732817, -2.7124917042, -0.2995753861, 2...                  3  \n",
       "\n",
       "[2803 rows x 4 columns]"
      ]
     },
     "execution_count": 40,
     "metadata": {},
     "output_type": "execute_result"
    }
   ],
   "source": [
    "time_series_data['channel_x_cluster'] = channel_x_clusters\n",
    "time_series_data"
   ]
  },
  {
   "cell_type": "code",
   "execution_count": null,
   "id": "16523b17-4149-4dbd-b75f-6d8e924c63fa",
   "metadata": {},
   "outputs": [],
   "source": []
  }
 ],
 "metadata": {
  "kernelspec": {
   "display_name": "Python 3 (ipykernel)",
   "language": "python",
   "name": "python3"
  },
  "language_info": {
   "codemirror_mode": {
    "name": "ipython",
    "version": 3
   },
   "file_extension": ".py",
   "mimetype": "text/x-python",
   "name": "python",
   "nbconvert_exporter": "python",
   "pygments_lexer": "ipython3",
   "version": "3.12.4"
  }
 },
 "nbformat": 4,
 "nbformat_minor": 5
}
